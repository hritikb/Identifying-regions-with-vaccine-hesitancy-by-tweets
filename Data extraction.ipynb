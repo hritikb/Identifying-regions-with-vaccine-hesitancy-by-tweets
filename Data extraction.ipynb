{
 "cells": [
  {
   "cell_type": "code",
   "execution_count": 44,
   "metadata": {},
   "outputs": [],
   "source": [
    "import pandas as pd\n",
    "import tweepy\n",
    "import twitter_authentication"
   ]
  },
  {
   "cell_type": "code",
   "execution_count": 45,
   "metadata": {},
   "outputs": [],
   "source": [
    "consumer_key = twitter_authentication.api_key\n",
    "consumer_secret = twitter_authentication.api_key_secret\n",
    "access_token = twitter_authentication.access_token\n",
    "access_token_secret = twitter_authentication.access_token_secret\n",
    "auth = tweepy.OAuthHandler(consumer_key, consumer_secret)\n",
    "auth.set_access_token(access_token, access_token_secret)\n",
    "api = tweepy.API(auth,wait_on_rate_limit=True)"
   ]
  },
  {
   "cell_type": "markdown",
   "metadata": {},
   "source": [
    "# Panacealab Data"
   ]
  },
  {
   "cell_type": "code",
   "execution_count": 46,
   "metadata": {},
   "outputs": [],
   "source": [
    "import gzip\n",
    "import wget\n",
    "from shutil import copyfile\n",
    "import os\n",
    "import ipywidgets as widgets\n",
    "import numpy as np\n",
    "import shutil\n",
    "from shutil import copyfile"
   ]
  },
  {
   "cell_type": "code",
   "execution_count": 47,
   "metadata": {},
   "outputs": [
    {
     "name": "stdout",
     "output_type": "stream",
     "text": [
      "Enter month10\n"
     ]
    }
   ],
   "source": [
    "required_month = input('Enter month')"
   ]
  },
  {
   "cell_type": "code",
   "execution_count": 48,
   "metadata": {},
   "outputs": [
    {
     "data": {
      "text/plain": [
       "'10'"
      ]
     },
     "execution_count": 48,
     "metadata": {},
     "output_type": "execute_result"
    }
   ],
   "source": [
    "required_month"
   ]
  },
  {
   "cell_type": "code",
   "execution_count": 49,
   "metadata": {},
   "outputs": [],
   "source": [
    "days_in_month = {'01' : 32, '02' : 29, '03' : 32, '04' : 31, '05' : 32, '06' : 31, '07' : 32, '08' : 32, '09' : 31, '10' : 32,\n",
    "                 '11' : 31, '12' : 32}"
   ]
  },
  {
   "cell_type": "code",
   "execution_count": 50,
   "metadata": {},
   "outputs": [
    {
     "data": {
      "application/vnd.jupyter.widget-view+json": {
       "model_id": "7a8c1ad5ed7d41e4ae11d2bf96f9537d",
       "version_major": 2,
       "version_minor": 0
      },
      "text/plain": [
       "Dropdown(options=('all', 'ar', 'bg', 'bn', 'ca', 'cs', 'cy', 'da', 'de', 'dv', 'el', 'en', 'es', 'et', 'eu', '…"
      ]
     },
     "metadata": {},
     "output_type": "display_data"
    }
   ],
   "source": [
    "dataset_URL = f\"https://github.com/thepanacealab/covid19_twitter/blob/master/dailies/2021-{required_month}-01/2021-{required_month}-01_clean-dataset.tsv.gz?raw=true\" #@param {type:\"string\"}\n",
    "\n",
    "\n",
    "#Downloads the dataset (compressed in a GZ format)\n",
    "#!wget dataset_URL -O clean-dataset.tsv.gz\n",
    "wget.download(dataset_URL, out='clean-dataset.tsv.gz')\n",
    "\n",
    "#Unzips the dataset and gets the TSV dataset\n",
    "with gzip.open('clean-dataset.tsv.gz', 'rb') as f_in:\n",
    "    with open('clean-dataset.tsv', 'wb') as f_out:\n",
    "        shutil.copyfileobj(f_in, f_out)\n",
    "\n",
    "#Deletes the compressed GZ file\n",
    "os.unlink(\"clean-dataset.tsv.gz\")\n",
    "\n",
    "#Gets all possible languages from the dataset\n",
    "df = pd.read_csv('clean-dataset.tsv',sep=\"\\t\")\n",
    "lang_list = df.lang.unique()\n",
    "lang_list= sorted(np.append(lang_list,'all'))\n",
    "lang_picker = widgets.Dropdown(options=lang_list, value=\"all\")\n",
    "lang_picker"
   ]
  },
  {
   "cell_type": "code",
   "execution_count": 51,
   "metadata": {
    "scrolled": true
   },
   "outputs": [
    {
     "data": {
      "text/html": [
       "<div>\n",
       "<style scoped>\n",
       "    .dataframe tbody tr th:only-of-type {\n",
       "        vertical-align: middle;\n",
       "    }\n",
       "\n",
       "    .dataframe tbody tr th {\n",
       "        vertical-align: top;\n",
       "    }\n",
       "\n",
       "    .dataframe thead th {\n",
       "        text-align: right;\n",
       "    }\n",
       "</style>\n",
       "<table border=\"1\" class=\"dataframe\">\n",
       "  <thead>\n",
       "    <tr style=\"text-align: right;\">\n",
       "      <th></th>\n",
       "      <th>tweet_id</th>\n",
       "      <th>date</th>\n",
       "      <th>time</th>\n",
       "      <th>lang</th>\n",
       "      <th>country_code</th>\n",
       "    </tr>\n",
       "  </thead>\n",
       "  <tbody>\n",
       "    <tr>\n",
       "      <th>0</th>\n",
       "      <td>1443787841356673030</td>\n",
       "      <td>2021-10-01</td>\n",
       "      <td>04:00:20</td>\n",
       "      <td>es</td>\n",
       "      <td>NaN</td>\n",
       "    </tr>\n",
       "    <tr>\n",
       "      <th>1</th>\n",
       "      <td>1443787845185933336</td>\n",
       "      <td>2021-10-01</td>\n",
       "      <td>04:00:21</td>\n",
       "      <td>en</td>\n",
       "      <td>NaN</td>\n",
       "    </tr>\n",
       "    <tr>\n",
       "      <th>2</th>\n",
       "      <td>1443787846461054978</td>\n",
       "      <td>2021-10-01</td>\n",
       "      <td>04:00:21</td>\n",
       "      <td>en</td>\n",
       "      <td>NaN</td>\n",
       "    </tr>\n",
       "    <tr>\n",
       "      <th>3</th>\n",
       "      <td>1443787847492792320</td>\n",
       "      <td>2021-10-01</td>\n",
       "      <td>04:00:21</td>\n",
       "      <td>in</td>\n",
       "      <td>NaN</td>\n",
       "    </tr>\n",
       "    <tr>\n",
       "      <th>4</th>\n",
       "      <td>1443787849724268553</td>\n",
       "      <td>2021-10-01</td>\n",
       "      <td>04:00:22</td>\n",
       "      <td>en</td>\n",
       "      <td>NaN</td>\n",
       "    </tr>\n",
       "  </tbody>\n",
       "</table>\n",
       "</div>"
      ],
      "text/plain": [
       "              tweet_id        date      time lang country_code\n",
       "0  1443787841356673030  2021-10-01  04:00:20   es          NaN\n",
       "1  1443787845185933336  2021-10-01  04:00:21   en          NaN\n",
       "2  1443787846461054978  2021-10-01  04:00:21   en          NaN\n",
       "3  1443787847492792320  2021-10-01  04:00:21   in          NaN\n",
       "4  1443787849724268553  2021-10-01  04:00:22   en          NaN"
      ]
     },
     "execution_count": 51,
     "metadata": {},
     "output_type": "execute_result"
    }
   ],
   "source": [
    "df.head()"
   ]
  },
  {
   "cell_type": "code",
   "execution_count": 53,
   "metadata": {},
   "outputs": [
    {
     "data": {
      "text/plain": [
       "160"
      ]
     },
     "execution_count": 53,
     "metadata": {},
     "output_type": "execute_result"
    }
   ],
   "source": [
    "df.country_code.value_counts().loc['IN']"
   ]
  },
  {
   "cell_type": "code",
   "execution_count": 54,
   "metadata": {},
   "outputs": [],
   "source": [
    "df = df[df['country_code'] == 'IN']\n",
    "df = df[df['lang'] == 'en']"
   ]
  },
  {
   "cell_type": "code",
   "execution_count": 55,
   "metadata": {},
   "outputs": [],
   "source": [
    "final_df = df"
   ]
  },
  {
   "cell_type": "code",
   "execution_count": 56,
   "metadata": {},
   "outputs": [
    {
     "name": "stdout",
     "output_type": "stream",
     "text": [
      "(117, 5)\n",
      "(62, 5)\n",
      "(110, 5)\n",
      "(79, 5)\n",
      "(84, 5)\n",
      "(91, 5)\n",
      "(61, 5)\n",
      "(92, 5)\n"
     ]
    }
   ],
   "source": [
    "lst = [i for i in range(2, 10)]\n",
    "\n",
    "for i in lst:\n",
    "    \n",
    "    dataset_URL = f\"https://github.com/thepanacealab/covid19_twitter/blob/master/dailies/2021-{required_month}-0{i}/2021-{required_month}-0{i}_clean-dataset.tsv.gz?raw=true\" #@param {type:\"string\"}\n",
    "    \n",
    "    wget.download(dataset_URL, out='clean-dataset.tsv.gz')\n",
    "\n",
    "    #Unzips the dataset and gets the TSV dataset\n",
    "    with gzip.open('clean-dataset.tsv.gz', 'rb') as f_in:\n",
    "        with open('clean-dataset.tsv', 'wb') as f_out:\n",
    "            shutil.copyfileobj(f_in, f_out)\n",
    "\n",
    "    #Deletes the compressed GZ file\n",
    "    os.unlink(\"clean-dataset.tsv.gz\")\n",
    "\n",
    "    #Gets all possible languages from the dataset\n",
    "    df = pd.read_csv('clean-dataset.tsv',sep=\"\\t\")\n",
    "    df = df[df['country_code'] == 'IN']\n",
    "    df = df[df['lang'] == 'en']\n",
    "    print(df.shape)\n",
    "    \n",
    "    final_df = final_df.append(df, ignore_index = True)\n"
   ]
  },
  {
   "cell_type": "code",
   "execution_count": 57,
   "metadata": {},
   "outputs": [
    {
     "data": {
      "text/plain": [
       "(809, 5)"
      ]
     },
     "execution_count": 57,
     "metadata": {},
     "output_type": "execute_result"
    }
   ],
   "source": [
    "final_df.shape"
   ]
  },
  {
   "cell_type": "code",
   "execution_count": 58,
   "metadata": {},
   "outputs": [
    {
     "name": "stdout",
     "output_type": "stream",
     "text": [
      "https://github.com/thepanacealab/covid19_twitter/blob/master/dailies/2021-01-10/2021-01-10_clean-dataset.tsv.gz?raw=true\n",
      "https://github.com/thepanacealab/covid19_twitter/blob/master/dailies/2021-01-11/2021-01-11_clean-dataset.tsv.gz?raw=true\n",
      "https://github.com/thepanacealab/covid19_twitter/blob/master/dailies/2021-01-12/2021-01-12_clean-dataset.tsv.gz?raw=true\n",
      "https://github.com/thepanacealab/covid19_twitter/blob/master/dailies/2021-01-13/2021-01-13_clean-dataset.tsv.gz?raw=true\n",
      "https://github.com/thepanacealab/covid19_twitter/blob/master/dailies/2021-01-14/2021-01-14_clean-dataset.tsv.gz?raw=true\n",
      "https://github.com/thepanacealab/covid19_twitter/blob/master/dailies/2021-01-15/2021-01-15_clean-dataset.tsv.gz?raw=true\n",
      "https://github.com/thepanacealab/covid19_twitter/blob/master/dailies/2021-01-16/2021-01-16_clean-dataset.tsv.gz?raw=true\n",
      "https://github.com/thepanacealab/covid19_twitter/blob/master/dailies/2021-01-17/2021-01-17_clean-dataset.tsv.gz?raw=true\n",
      "https://github.com/thepanacealab/covid19_twitter/blob/master/dailies/2021-01-18/2021-01-18_clean-dataset.tsv.gz?raw=true\n",
      "https://github.com/thepanacealab/covid19_twitter/blob/master/dailies/2021-01-19/2021-01-19_clean-dataset.tsv.gz?raw=true\n",
      "https://github.com/thepanacealab/covid19_twitter/blob/master/dailies/2021-01-20/2021-01-20_clean-dataset.tsv.gz?raw=true\n",
      "https://github.com/thepanacealab/covid19_twitter/blob/master/dailies/2021-01-21/2021-01-21_clean-dataset.tsv.gz?raw=true\n",
      "https://github.com/thepanacealab/covid19_twitter/blob/master/dailies/2021-01-22/2021-01-22_clean-dataset.tsv.gz?raw=true\n",
      "https://github.com/thepanacealab/covid19_twitter/blob/master/dailies/2021-01-23/2021-01-23_clean-dataset.tsv.gz?raw=true\n",
      "https://github.com/thepanacealab/covid19_twitter/blob/master/dailies/2021-01-24/2021-01-24_clean-dataset.tsv.gz?raw=true\n",
      "https://github.com/thepanacealab/covid19_twitter/blob/master/dailies/2021-01-25/2021-01-25_clean-dataset.tsv.gz?raw=true\n",
      "https://github.com/thepanacealab/covid19_twitter/blob/master/dailies/2021-01-26/2021-01-26_clean-dataset.tsv.gz?raw=true\n",
      "https://github.com/thepanacealab/covid19_twitter/blob/master/dailies/2021-01-27/2021-01-27_clean-dataset.tsv.gz?raw=true\n",
      "https://github.com/thepanacealab/covid19_twitter/blob/master/dailies/2021-01-28/2021-01-28_clean-dataset.tsv.gz?raw=true\n",
      "https://github.com/thepanacealab/covid19_twitter/blob/master/dailies/2021-01-29/2021-01-29_clean-dataset.tsv.gz?raw=true\n",
      "https://github.com/thepanacealab/covid19_twitter/blob/master/dailies/2021-01-30/2021-01-30_clean-dataset.tsv.gz?raw=true\n",
      "https://github.com/thepanacealab/covid19_twitter/blob/master/dailies/2021-01-31/2021-01-31_clean-dataset.tsv.gz?raw=true\n"
     ]
    }
   ],
   "source": [
    "for i in range (10, days_in_month[required_month]):\n",
    "    print(f\"https://github.com/thepanacealab/covid19_twitter/blob/master/dailies/2021-01-{i}/2021-01-{i}_clean-dataset.tsv.gz?raw=true\")"
   ]
  },
  {
   "cell_type": "code",
   "execution_count": 59,
   "metadata": {},
   "outputs": [
    {
     "name": "stdout",
     "output_type": "stream",
     "text": [
      "(84, 5)\n",
      "(88, 5)\n",
      "(92, 5)\n",
      "(59, 5)\n",
      "(90, 5)\n",
      "(73, 5)\n",
      "(76, 5)\n",
      "(101, 5)\n",
      "(112, 5)\n",
      "(85, 5)\n",
      "(73, 5)\n",
      "(363, 5)\n",
      "(165, 5)\n",
      "(109, 5)\n",
      "(79, 5)\n",
      "(60, 5)\n",
      "(72, 5)\n",
      "(78, 5)\n",
      "(71, 5)\n",
      "(84, 5)\n",
      "(94, 5)\n",
      "(62, 5)\n"
     ]
    }
   ],
   "source": [
    "lst = [i for i in range(10, days_in_month[required_month])]\n",
    "\n",
    "for i in lst:\n",
    "    \n",
    "    dataset_URL = f\"https://github.com/thepanacealab/covid19_twitter/blob/master/dailies/2021-{required_month}-{i}/2021-{required_month}-{i}_clean-dataset.tsv.gz?raw=true\" #@param {type:\"string\"}\n",
    "    \n",
    "    wget.download(dataset_URL, out='clean-dataset.tsv.gz')\n",
    "\n",
    "    #Unzips the dataset and gets the TSV dataset\n",
    "    with gzip.open('clean-dataset.tsv.gz', 'rb') as f_in:\n",
    "        with open('clean-dataset.tsv', 'wb') as f_out:\n",
    "            shutil.copyfileobj(f_in, f_out)\n",
    "\n",
    "    #Deletes the compressed GZ file\n",
    "    os.unlink(\"clean-dataset.tsv.gz\")\n",
    "\n",
    "    #Gets all possible languages from the dataset\n",
    "    df = pd.read_csv('clean-dataset.tsv',sep=\"\\t\")\n",
    "    df = df[df['country_code'] == 'IN']\n",
    "    df = df[df['lang'] == 'en']\n",
    "    print(df.shape)\n",
    "    \n",
    "    final_df = final_df.append(df, ignore_index = True)\n"
   ]
  },
  {
   "cell_type": "markdown",
   "metadata": {},
   "source": [
    "# Trying to come up with algo for hydrating tweet"
   ]
  },
  {
   "cell_type": "code",
   "execution_count": 60,
   "metadata": {},
   "outputs": [],
   "source": [
    "def get_full_tweet(x):\n",
    "    print(x)\n",
    "    try:\n",
    "        tweet = api.get_status(x)\n",
    "        lst = [tweet.created_at, tweet.id, tweet.text, tweet.user, tweet.coordinates, tweet.place, tweet.lang]\n",
    "        return lst\n",
    "#        else:\n",
    "#        return 0\n",
    "    except Exception as e:\n",
    "        pass\n",
    "    \n",
    "    return [0, x, 0, 0, 0, 0, 0]"
   ]
  },
  {
   "cell_type": "markdown",
   "metadata": {},
   "source": []
  },
  {
   "cell_type": "markdown",
   "metadata": {},
   "source": [
    "# Now we have the algo, we will get hydrated January tweets in climax_df"
   ]
  },
  {
   "cell_type": "code",
   "execution_count": 61,
   "metadata": {},
   "outputs": [
    {
     "data": {
      "text/html": [
       "<div>\n",
       "<style scoped>\n",
       "    .dataframe tbody tr th:only-of-type {\n",
       "        vertical-align: middle;\n",
       "    }\n",
       "\n",
       "    .dataframe tbody tr th {\n",
       "        vertical-align: top;\n",
       "    }\n",
       "\n",
       "    .dataframe thead th {\n",
       "        text-align: right;\n",
       "    }\n",
       "</style>\n",
       "<table border=\"1\" class=\"dataframe\">\n",
       "  <thead>\n",
       "    <tr style=\"text-align: right;\">\n",
       "      <th></th>\n",
       "      <th>tweet_id</th>\n",
       "      <th>date</th>\n",
       "      <th>time</th>\n",
       "      <th>lang</th>\n",
       "      <th>country_code</th>\n",
       "    </tr>\n",
       "  </thead>\n",
       "  <tbody>\n",
       "    <tr>\n",
       "      <th>0</th>\n",
       "      <td>1443795675083251717</td>\n",
       "      <td>2021-10-01</td>\n",
       "      <td>04:31:28</td>\n",
       "      <td>en</td>\n",
       "      <td>IN</td>\n",
       "    </tr>\n",
       "    <tr>\n",
       "      <th>1</th>\n",
       "      <td>1443796019070656514</td>\n",
       "      <td>2021-10-01</td>\n",
       "      <td>04:32:50</td>\n",
       "      <td>en</td>\n",
       "      <td>IN</td>\n",
       "    </tr>\n",
       "    <tr>\n",
       "      <th>2</th>\n",
       "      <td>1443797383670743040</td>\n",
       "      <td>2021-10-01</td>\n",
       "      <td>04:38:15</td>\n",
       "      <td>en</td>\n",
       "      <td>IN</td>\n",
       "    </tr>\n",
       "    <tr>\n",
       "      <th>3</th>\n",
       "      <td>1443799575832104961</td>\n",
       "      <td>2021-10-01</td>\n",
       "      <td>04:46:58</td>\n",
       "      <td>en</td>\n",
       "      <td>IN</td>\n",
       "    </tr>\n",
       "    <tr>\n",
       "      <th>4</th>\n",
       "      <td>1443801577295286278</td>\n",
       "      <td>2021-10-01</td>\n",
       "      <td>04:54:55</td>\n",
       "      <td>en</td>\n",
       "      <td>IN</td>\n",
       "    </tr>\n",
       "  </tbody>\n",
       "</table>\n",
       "</div>"
      ],
      "text/plain": [
       "              tweet_id        date      time lang country_code\n",
       "0  1443795675083251717  2021-10-01  04:31:28   en           IN\n",
       "1  1443796019070656514  2021-10-01  04:32:50   en           IN\n",
       "2  1443797383670743040  2021-10-01  04:38:15   en           IN\n",
       "3  1443799575832104961  2021-10-01  04:46:58   en           IN\n",
       "4  1443801577295286278  2021-10-01  04:54:55   en           IN"
      ]
     },
     "execution_count": 61,
     "metadata": {},
     "output_type": "execute_result"
    }
   ],
   "source": [
    "final_df.head()"
   ]
  },
  {
   "cell_type": "code",
   "execution_count": 62,
   "metadata": {},
   "outputs": [
    {
     "data": {
      "text/plain": [
       "(2979, 5)"
      ]
     },
     "execution_count": 62,
     "metadata": {},
     "output_type": "execute_result"
    }
   ],
   "source": [
    "final_df.shape"
   ]
  },
  {
   "cell_type": "code",
   "execution_count": null,
   "metadata": {
    "scrolled": true
   },
   "outputs": [],
   "source": [
    "lst = [get_full_tweet(i) for i in list(final_df['tweet_id'])]\n",
    "climax_df = pd.DataFrame(lst, columns = ['created_at', 'id', 'text', 'user', 'coordinates', 'place', 'lang'])"
   ]
  },
  {
   "cell_type": "code",
   "execution_count": 64,
   "metadata": {},
   "outputs": [
    {
     "data": {
      "text/plain": [
       "(2979, 7)"
      ]
     },
     "execution_count": 64,
     "metadata": {},
     "output_type": "execute_result"
    }
   ],
   "source": [
    "climax_df.shape"
   ]
  },
  {
   "cell_type": "markdown",
   "metadata": {},
   "source": [
    "# Now we have hydrated data"
   ]
  },
  {
   "cell_type": "markdown",
   "metadata": {},
   "source": [
    "## Data cleaning"
   ]
  },
  {
   "cell_type": "code",
   "execution_count": 65,
   "metadata": {
    "scrolled": true
   },
   "outputs": [
    {
     "data": {
      "text/html": [
       "<div>\n",
       "<style scoped>\n",
       "    .dataframe tbody tr th:only-of-type {\n",
       "        vertical-align: middle;\n",
       "    }\n",
       "\n",
       "    .dataframe tbody tr th {\n",
       "        vertical-align: top;\n",
       "    }\n",
       "\n",
       "    .dataframe thead th {\n",
       "        text-align: right;\n",
       "    }\n",
       "</style>\n",
       "<table border=\"1\" class=\"dataframe\">\n",
       "  <thead>\n",
       "    <tr style=\"text-align: right;\">\n",
       "      <th></th>\n",
       "      <th>created_at</th>\n",
       "      <th>id</th>\n",
       "      <th>text</th>\n",
       "      <th>user</th>\n",
       "      <th>coordinates</th>\n",
       "      <th>place</th>\n",
       "      <th>lang</th>\n",
       "    </tr>\n",
       "  </thead>\n",
       "  <tbody>\n",
       "    <tr>\n",
       "      <th>0</th>\n",
       "      <td>2021-10-01 04:31:28+00:00</td>\n",
       "      <td>1443795675083251717</td>\n",
       "      <td>Yes, most of them are African countries. These...</td>\n",
       "      <td>User(_api=&lt;tweepy.api.API object at 0x0000015E...</td>\n",
       "      <td>None</td>\n",
       "      <td>Place(_api=&lt;tweepy.api.API object at 0x0000015...</td>\n",
       "      <td>en</td>\n",
       "    </tr>\n",
       "    <tr>\n",
       "      <th>1</th>\n",
       "      <td>2021-10-01 04:32:50+00:00</td>\n",
       "      <td>1443796019070656514</td>\n",
       "      <td>@KTRTRS @KTRoffice Dear Sir, this it to inform...</td>\n",
       "      <td>User(_api=&lt;tweepy.api.API object at 0x0000015E...</td>\n",
       "      <td>None</td>\n",
       "      <td>Place(_api=&lt;tweepy.api.API object at 0x0000015...</td>\n",
       "      <td>en</td>\n",
       "    </tr>\n",
       "    <tr>\n",
       "      <th>2</th>\n",
       "      <td>2021-10-01 04:38:15+00:00</td>\n",
       "      <td>1443797383670743040</td>\n",
       "      <td>World Heritage site #Kaziranga national park i...</td>\n",
       "      <td>User(_api=&lt;tweepy.api.API object at 0x0000015E...</td>\n",
       "      <td>None</td>\n",
       "      <td>Place(_api=&lt;tweepy.api.API object at 0x0000015...</td>\n",
       "      <td>en</td>\n",
       "    </tr>\n",
       "    <tr>\n",
       "      <th>3</th>\n",
       "      <td>2021-10-01 04:46:58+00:00</td>\n",
       "      <td>1443799575832104961</td>\n",
       "      <td>Last day of the Double mask.. #COVID19 #Thalai...</td>\n",
       "      <td>User(_api=&lt;tweepy.api.API object at 0x0000015E...</td>\n",
       "      <td>None</td>\n",
       "      <td>Place(_api=&lt;tweepy.api.API object at 0x0000015...</td>\n",
       "      <td>en</td>\n",
       "    </tr>\n",
       "    <tr>\n",
       "      <th>4</th>\n",
       "      <td>2021-10-01 04:54:55+00:00</td>\n",
       "      <td>1443801577295286278</td>\n",
       "      <td>Alarming rise in dengue cases https://t.co/D0n...</td>\n",
       "      <td>User(_api=&lt;tweepy.api.API object at 0x0000015E...</td>\n",
       "      <td>None</td>\n",
       "      <td>Place(_api=&lt;tweepy.api.API object at 0x0000015...</td>\n",
       "      <td>en</td>\n",
       "    </tr>\n",
       "    <tr>\n",
       "      <th>5</th>\n",
       "      <td>2021-10-01 04:55:25+00:00</td>\n",
       "      <td>1443801705661931522</td>\n",
       "      <td>No garba but physical darshan allowed during N...</td>\n",
       "      <td>User(_api=&lt;tweepy.api.API object at 0x0000015E...</td>\n",
       "      <td>None</td>\n",
       "      <td>Place(_api=&lt;tweepy.api.API object at 0x0000015...</td>\n",
       "      <td>en</td>\n",
       "    </tr>\n",
       "    <tr>\n",
       "      <th>6</th>\n",
       "      <td>2021-10-01 04:56:46+00:00</td>\n",
       "      <td>1443802042523271168</td>\n",
       "      <td>Scary! https://t.co/Y0csCVt1mr</td>\n",
       "      <td>User(_api=&lt;tweepy.api.API object at 0x0000015E...</td>\n",
       "      <td>None</td>\n",
       "      <td>Place(_api=&lt;tweepy.api.API object at 0x0000015...</td>\n",
       "      <td>en</td>\n",
       "    </tr>\n",
       "    <tr>\n",
       "      <th>7</th>\n",
       "      <td>0</td>\n",
       "      <td>1443810585989173256</td>\n",
       "      <td>0</td>\n",
       "      <td>0</td>\n",
       "      <td>0</td>\n",
       "      <td>0</td>\n",
       "      <td>0</td>\n",
       "    </tr>\n",
       "    <tr>\n",
       "      <th>8</th>\n",
       "      <td>2021-10-01 05:46:52+00:00</td>\n",
       "      <td>1443814653260230656</td>\n",
       "      <td>Respect them 🙏\\n@Naveen_Odisha @SusantaSingh11...</td>\n",
       "      <td>User(_api=&lt;tweepy.api.API object at 0x0000015E...</td>\n",
       "      <td>None</td>\n",
       "      <td>Place(_api=&lt;tweepy.api.API object at 0x0000015...</td>\n",
       "      <td>en</td>\n",
       "    </tr>\n",
       "    <tr>\n",
       "      <th>9</th>\n",
       "      <td>2021-10-01 05:49:46+00:00</td>\n",
       "      <td>1443815381378863107</td>\n",
       "      <td>Earlier, when people started using masks we we...</td>\n",
       "      <td>User(_api=&lt;tweepy.api.API object at 0x0000015E...</td>\n",
       "      <td>None</td>\n",
       "      <td>Place(_api=&lt;tweepy.api.API object at 0x0000015...</td>\n",
       "      <td>en</td>\n",
       "    </tr>\n",
       "    <tr>\n",
       "      <th>10</th>\n",
       "      <td>2021-10-01 05:59:03+00:00</td>\n",
       "      <td>1443817716641533953</td>\n",
       "      <td>In COVID-19 everyone is talking about #Public_...</td>\n",
       "      <td>User(_api=&lt;tweepy.api.API object at 0x0000015E...</td>\n",
       "      <td>None</td>\n",
       "      <td>Place(_api=&lt;tweepy.api.API object at 0x0000015...</td>\n",
       "      <td>en</td>\n",
       "    </tr>\n",
       "    <tr>\n",
       "      <th>11</th>\n",
       "      <td>2021-10-01 05:59:59+00:00</td>\n",
       "      <td>1443817955075129349</td>\n",
       "      <td>Mumbai: BMC issues guidelines for Navratri ami...</td>\n",
       "      <td>User(_api=&lt;tweepy.api.API object at 0x0000015E...</td>\n",
       "      <td>None</td>\n",
       "      <td>Place(_api=&lt;tweepy.api.API object at 0x0000015...</td>\n",
       "      <td>en</td>\n",
       "    </tr>\n",
       "    <tr>\n",
       "      <th>12</th>\n",
       "      <td>2021-10-01 06:22:04+00:00</td>\n",
       "      <td>1443823510879551493</td>\n",
       "      <td>https://t.co/7WpdXYwVYR \\nSydney : Australian ...</td>\n",
       "      <td>User(_api=&lt;tweepy.api.API object at 0x0000015E...</td>\n",
       "      <td>None</td>\n",
       "      <td>Place(_api=&lt;tweepy.api.API object at 0x0000015...</td>\n",
       "      <td>en</td>\n",
       "    </tr>\n",
       "    <tr>\n",
       "      <th>13</th>\n",
       "      <td>2021-10-01 06:25:12+00:00</td>\n",
       "      <td>1443824297324122113</td>\n",
       "      <td>Don't Miss This⬇️\\n\\nFlat 15% OFF on Lab Test ...</td>\n",
       "      <td>User(_api=&lt;tweepy.api.API object at 0x0000015E...</td>\n",
       "      <td>None</td>\n",
       "      <td>Place(_api=&lt;tweepy.api.API object at 0x0000015...</td>\n",
       "      <td>en</td>\n",
       "    </tr>\n",
       "    <tr>\n",
       "      <th>14</th>\n",
       "      <td>2021-10-01 06:34:56+00:00</td>\n",
       "      <td>1443826750048272387</td>\n",
       "      <td>I reiterate @capt_amarinder.\\nU showed your me...</td>\n",
       "      <td>User(_api=&lt;tweepy.api.API object at 0x0000015E...</td>\n",
       "      <td>None</td>\n",
       "      <td>Place(_api=&lt;tweepy.api.API object at 0x0000015...</td>\n",
       "      <td>en</td>\n",
       "    </tr>\n",
       "    <tr>\n",
       "      <th>15</th>\n",
       "      <td>2021-10-01 06:44:12+00:00</td>\n",
       "      <td>1443829081842216960</td>\n",
       "      <td>Today marks the International Day of Older Per...</td>\n",
       "      <td>User(_api=&lt;tweepy.api.API object at 0x0000015E...</td>\n",
       "      <td>None</td>\n",
       "      <td>Place(_api=&lt;tweepy.api.API object at 0x0000015...</td>\n",
       "      <td>en</td>\n",
       "    </tr>\n",
       "    <tr>\n",
       "      <th>16</th>\n",
       "      <td>0</td>\n",
       "      <td>1443830872654823425</td>\n",
       "      <td>0</td>\n",
       "      <td>0</td>\n",
       "      <td>0</td>\n",
       "      <td>0</td>\n",
       "      <td>0</td>\n",
       "    </tr>\n",
       "    <tr>\n",
       "      <th>17</th>\n",
       "      <td>2021-10-01 06:54:30+00:00</td>\n",
       "      <td>1443831672542154753</td>\n",
       "      <td>Shop to save more🤩\\n\\nInstall now - https://t....</td>\n",
       "      <td>User(_api=&lt;tweepy.api.API object at 0x0000015E...</td>\n",
       "      <td>None</td>\n",
       "      <td>Place(_api=&lt;tweepy.api.API object at 0x0000015...</td>\n",
       "      <td>en</td>\n",
       "    </tr>\n",
       "    <tr>\n",
       "      <th>18</th>\n",
       "      <td>0</td>\n",
       "      <td>1443832099375497219</td>\n",
       "      <td>0</td>\n",
       "      <td>0</td>\n",
       "      <td>0</td>\n",
       "      <td>0</td>\n",
       "      <td>0</td>\n",
       "    </tr>\n",
       "    <tr>\n",
       "      <th>19</th>\n",
       "      <td>2021-10-01 06:59:26+00:00</td>\n",
       "      <td>1443832913452093440</td>\n",
       "      <td>Such a relief to see zero active #Covid19 case...</td>\n",
       "      <td>User(_api=&lt;tweepy.api.API object at 0x0000015E...</td>\n",
       "      <td>None</td>\n",
       "      <td>Place(_api=&lt;tweepy.api.API object at 0x0000015...</td>\n",
       "      <td>en</td>\n",
       "    </tr>\n",
       "  </tbody>\n",
       "</table>\n",
       "</div>"
      ],
      "text/plain": [
       "                   created_at                   id  \\\n",
       "0   2021-10-01 04:31:28+00:00  1443795675083251717   \n",
       "1   2021-10-01 04:32:50+00:00  1443796019070656514   \n",
       "2   2021-10-01 04:38:15+00:00  1443797383670743040   \n",
       "3   2021-10-01 04:46:58+00:00  1443799575832104961   \n",
       "4   2021-10-01 04:54:55+00:00  1443801577295286278   \n",
       "5   2021-10-01 04:55:25+00:00  1443801705661931522   \n",
       "6   2021-10-01 04:56:46+00:00  1443802042523271168   \n",
       "7                           0  1443810585989173256   \n",
       "8   2021-10-01 05:46:52+00:00  1443814653260230656   \n",
       "9   2021-10-01 05:49:46+00:00  1443815381378863107   \n",
       "10  2021-10-01 05:59:03+00:00  1443817716641533953   \n",
       "11  2021-10-01 05:59:59+00:00  1443817955075129349   \n",
       "12  2021-10-01 06:22:04+00:00  1443823510879551493   \n",
       "13  2021-10-01 06:25:12+00:00  1443824297324122113   \n",
       "14  2021-10-01 06:34:56+00:00  1443826750048272387   \n",
       "15  2021-10-01 06:44:12+00:00  1443829081842216960   \n",
       "16                          0  1443830872654823425   \n",
       "17  2021-10-01 06:54:30+00:00  1443831672542154753   \n",
       "18                          0  1443832099375497219   \n",
       "19  2021-10-01 06:59:26+00:00  1443832913452093440   \n",
       "\n",
       "                                                 text  \\\n",
       "0   Yes, most of them are African countries. These...   \n",
       "1   @KTRTRS @KTRoffice Dear Sir, this it to inform...   \n",
       "2   World Heritage site #Kaziranga national park i...   \n",
       "3   Last day of the Double mask.. #COVID19 #Thalai...   \n",
       "4   Alarming rise in dengue cases https://t.co/D0n...   \n",
       "5   No garba but physical darshan allowed during N...   \n",
       "6                      Scary! https://t.co/Y0csCVt1mr   \n",
       "7                                                   0   \n",
       "8   Respect them 🙏\\n@Naveen_Odisha @SusantaSingh11...   \n",
       "9   Earlier, when people started using masks we we...   \n",
       "10  In COVID-19 everyone is talking about #Public_...   \n",
       "11  Mumbai: BMC issues guidelines for Navratri ami...   \n",
       "12  https://t.co/7WpdXYwVYR \\nSydney : Australian ...   \n",
       "13  Don't Miss This⬇️\\n\\nFlat 15% OFF on Lab Test ...   \n",
       "14  I reiterate @capt_amarinder.\\nU showed your me...   \n",
       "15  Today marks the International Day of Older Per...   \n",
       "16                                                  0   \n",
       "17  Shop to save more🤩\\n\\nInstall now - https://t....   \n",
       "18                                                  0   \n",
       "19  Such a relief to see zero active #Covid19 case...   \n",
       "\n",
       "                                                 user coordinates  \\\n",
       "0   User(_api=<tweepy.api.API object at 0x0000015E...        None   \n",
       "1   User(_api=<tweepy.api.API object at 0x0000015E...        None   \n",
       "2   User(_api=<tweepy.api.API object at 0x0000015E...        None   \n",
       "3   User(_api=<tweepy.api.API object at 0x0000015E...        None   \n",
       "4   User(_api=<tweepy.api.API object at 0x0000015E...        None   \n",
       "5   User(_api=<tweepy.api.API object at 0x0000015E...        None   \n",
       "6   User(_api=<tweepy.api.API object at 0x0000015E...        None   \n",
       "7                                                   0           0   \n",
       "8   User(_api=<tweepy.api.API object at 0x0000015E...        None   \n",
       "9   User(_api=<tweepy.api.API object at 0x0000015E...        None   \n",
       "10  User(_api=<tweepy.api.API object at 0x0000015E...        None   \n",
       "11  User(_api=<tweepy.api.API object at 0x0000015E...        None   \n",
       "12  User(_api=<tweepy.api.API object at 0x0000015E...        None   \n",
       "13  User(_api=<tweepy.api.API object at 0x0000015E...        None   \n",
       "14  User(_api=<tweepy.api.API object at 0x0000015E...        None   \n",
       "15  User(_api=<tweepy.api.API object at 0x0000015E...        None   \n",
       "16                                                  0           0   \n",
       "17  User(_api=<tweepy.api.API object at 0x0000015E...        None   \n",
       "18                                                  0           0   \n",
       "19  User(_api=<tweepy.api.API object at 0x0000015E...        None   \n",
       "\n",
       "                                                place lang  \n",
       "0   Place(_api=<tweepy.api.API object at 0x0000015...   en  \n",
       "1   Place(_api=<tweepy.api.API object at 0x0000015...   en  \n",
       "2   Place(_api=<tweepy.api.API object at 0x0000015...   en  \n",
       "3   Place(_api=<tweepy.api.API object at 0x0000015...   en  \n",
       "4   Place(_api=<tweepy.api.API object at 0x0000015...   en  \n",
       "5   Place(_api=<tweepy.api.API object at 0x0000015...   en  \n",
       "6   Place(_api=<tweepy.api.API object at 0x0000015...   en  \n",
       "7                                                   0    0  \n",
       "8   Place(_api=<tweepy.api.API object at 0x0000015...   en  \n",
       "9   Place(_api=<tweepy.api.API object at 0x0000015...   en  \n",
       "10  Place(_api=<tweepy.api.API object at 0x0000015...   en  \n",
       "11  Place(_api=<tweepy.api.API object at 0x0000015...   en  \n",
       "12  Place(_api=<tweepy.api.API object at 0x0000015...   en  \n",
       "13  Place(_api=<tweepy.api.API object at 0x0000015...   en  \n",
       "14  Place(_api=<tweepy.api.API object at 0x0000015...   en  \n",
       "15  Place(_api=<tweepy.api.API object at 0x0000015...   en  \n",
       "16                                                  0    0  \n",
       "17  Place(_api=<tweepy.api.API object at 0x0000015...   en  \n",
       "18                                                  0    0  \n",
       "19  Place(_api=<tweepy.api.API object at 0x0000015...   en  "
      ]
     },
     "execution_count": 65,
     "metadata": {},
     "output_type": "execute_result"
    }
   ],
   "source": [
    "climax_df.head(20)"
   ]
  },
  {
   "cell_type": "code",
   "execution_count": 66,
   "metadata": {},
   "outputs": [
    {
     "data": {
      "text/plain": [
       "(2979, 7)"
      ]
     },
     "execution_count": 66,
     "metadata": {},
     "output_type": "execute_result"
    }
   ],
   "source": [
    "climax_df.shape"
   ]
  },
  {
   "cell_type": "code",
   "execution_count": 67,
   "metadata": {},
   "outputs": [
    {
     "data": {
      "text/plain": [
       "'@KTRTRS @KTRoffice Dear Sir, this it to inform you that Covid-19 vaccine service provided in Koti Hospital for fore… https://t.co/P0mvSzbVpb'"
      ]
     },
     "execution_count": 67,
     "metadata": {},
     "output_type": "execute_result"
    }
   ],
   "source": [
    "climax_df.loc[1, 'text']"
   ]
  },
  {
   "cell_type": "code",
   "execution_count": 68,
   "metadata": {},
   "outputs": [],
   "source": [
    "climax_df = climax_df[climax_df['text'] != 0]"
   ]
  },
  {
   "cell_type": "code",
   "execution_count": 69,
   "metadata": {},
   "outputs": [
    {
     "data": {
      "text/plain": [
       "(2736, 7)"
      ]
     },
     "execution_count": 69,
     "metadata": {},
     "output_type": "execute_result"
    }
   ],
   "source": [
    "climax_df.shape"
   ]
  },
  {
   "cell_type": "code",
   "execution_count": 70,
   "metadata": {},
   "outputs": [
    {
     "data": {
      "text/html": [
       "<div>\n",
       "<style scoped>\n",
       "    .dataframe tbody tr th:only-of-type {\n",
       "        vertical-align: middle;\n",
       "    }\n",
       "\n",
       "    .dataframe tbody tr th {\n",
       "        vertical-align: top;\n",
       "    }\n",
       "\n",
       "    .dataframe thead th {\n",
       "        text-align: right;\n",
       "    }\n",
       "</style>\n",
       "<table border=\"1\" class=\"dataframe\">\n",
       "  <thead>\n",
       "    <tr style=\"text-align: right;\">\n",
       "      <th></th>\n",
       "      <th>created_at</th>\n",
       "      <th>id</th>\n",
       "      <th>text</th>\n",
       "      <th>user</th>\n",
       "      <th>coordinates</th>\n",
       "      <th>place</th>\n",
       "      <th>lang</th>\n",
       "    </tr>\n",
       "  </thead>\n",
       "  <tbody>\n",
       "    <tr>\n",
       "      <th>0</th>\n",
       "      <td>2021-10-01 04:31:28+00:00</td>\n",
       "      <td>1443795675083251717</td>\n",
       "      <td>Yes, most of them are African countries. These...</td>\n",
       "      <td>User(_api=&lt;tweepy.api.API object at 0x0000015E...</td>\n",
       "      <td>None</td>\n",
       "      <td>Place(_api=&lt;tweepy.api.API object at 0x0000015...</td>\n",
       "      <td>en</td>\n",
       "    </tr>\n",
       "    <tr>\n",
       "      <th>1</th>\n",
       "      <td>2021-10-01 04:32:50+00:00</td>\n",
       "      <td>1443796019070656514</td>\n",
       "      <td>@KTRTRS @KTRoffice Dear Sir, this it to inform...</td>\n",
       "      <td>User(_api=&lt;tweepy.api.API object at 0x0000015E...</td>\n",
       "      <td>None</td>\n",
       "      <td>Place(_api=&lt;tweepy.api.API object at 0x0000015...</td>\n",
       "      <td>en</td>\n",
       "    </tr>\n",
       "    <tr>\n",
       "      <th>2</th>\n",
       "      <td>2021-10-01 04:38:15+00:00</td>\n",
       "      <td>1443797383670743040</td>\n",
       "      <td>World Heritage site #Kaziranga national park i...</td>\n",
       "      <td>User(_api=&lt;tweepy.api.API object at 0x0000015E...</td>\n",
       "      <td>None</td>\n",
       "      <td>Place(_api=&lt;tweepy.api.API object at 0x0000015...</td>\n",
       "      <td>en</td>\n",
       "    </tr>\n",
       "    <tr>\n",
       "      <th>3</th>\n",
       "      <td>2021-10-01 04:46:58+00:00</td>\n",
       "      <td>1443799575832104961</td>\n",
       "      <td>Last day of the Double mask.. #COVID19 #Thalai...</td>\n",
       "      <td>User(_api=&lt;tweepy.api.API object at 0x0000015E...</td>\n",
       "      <td>None</td>\n",
       "      <td>Place(_api=&lt;tweepy.api.API object at 0x0000015...</td>\n",
       "      <td>en</td>\n",
       "    </tr>\n",
       "    <tr>\n",
       "      <th>4</th>\n",
       "      <td>2021-10-01 04:54:55+00:00</td>\n",
       "      <td>1443801577295286278</td>\n",
       "      <td>Alarming rise in dengue cases https://t.co/D0n...</td>\n",
       "      <td>User(_api=&lt;tweepy.api.API object at 0x0000015E...</td>\n",
       "      <td>None</td>\n",
       "      <td>Place(_api=&lt;tweepy.api.API object at 0x0000015...</td>\n",
       "      <td>en</td>\n",
       "    </tr>\n",
       "  </tbody>\n",
       "</table>\n",
       "</div>"
      ],
      "text/plain": [
       "                  created_at                   id  \\\n",
       "0  2021-10-01 04:31:28+00:00  1443795675083251717   \n",
       "1  2021-10-01 04:32:50+00:00  1443796019070656514   \n",
       "2  2021-10-01 04:38:15+00:00  1443797383670743040   \n",
       "3  2021-10-01 04:46:58+00:00  1443799575832104961   \n",
       "4  2021-10-01 04:54:55+00:00  1443801577295286278   \n",
       "\n",
       "                                                text  \\\n",
       "0  Yes, most of them are African countries. These...   \n",
       "1  @KTRTRS @KTRoffice Dear Sir, this it to inform...   \n",
       "2  World Heritage site #Kaziranga national park i...   \n",
       "3  Last day of the Double mask.. #COVID19 #Thalai...   \n",
       "4  Alarming rise in dengue cases https://t.co/D0n...   \n",
       "\n",
       "                                                user coordinates  \\\n",
       "0  User(_api=<tweepy.api.API object at 0x0000015E...        None   \n",
       "1  User(_api=<tweepy.api.API object at 0x0000015E...        None   \n",
       "2  User(_api=<tweepy.api.API object at 0x0000015E...        None   \n",
       "3  User(_api=<tweepy.api.API object at 0x0000015E...        None   \n",
       "4  User(_api=<tweepy.api.API object at 0x0000015E...        None   \n",
       "\n",
       "                                               place lang  \n",
       "0  Place(_api=<tweepy.api.API object at 0x0000015...   en  \n",
       "1  Place(_api=<tweepy.api.API object at 0x0000015...   en  \n",
       "2  Place(_api=<tweepy.api.API object at 0x0000015...   en  \n",
       "3  Place(_api=<tweepy.api.API object at 0x0000015...   en  \n",
       "4  Place(_api=<tweepy.api.API object at 0x0000015...   en  "
      ]
     },
     "execution_count": 70,
     "metadata": {},
     "output_type": "execute_result"
    }
   ],
   "source": [
    "climax_df.head()"
   ]
  },
  {
   "cell_type": "code",
   "execution_count": 71,
   "metadata": {},
   "outputs": [],
   "source": [
    "climax_df.to_csv(f'Covid-19_no-empty-row_Data_for_Month_{required_month}_2021.csv')"
   ]
  },
  {
   "cell_type": "code",
   "execution_count": null,
   "metadata": {},
   "outputs": [],
   "source": []
  }
 ],
 "metadata": {
  "kernelspec": {
   "display_name": "Python 3",
   "language": "python",
   "name": "python3"
  },
  "language_info": {
   "codemirror_mode": {
    "name": "ipython",
    "version": 3
   },
   "file_extension": ".py",
   "mimetype": "text/x-python",
   "name": "python",
   "nbconvert_exporter": "python",
   "pygments_lexer": "ipython3",
   "version": "3.7.7"
  }
 },
 "nbformat": 4,
 "nbformat_minor": 4
}
